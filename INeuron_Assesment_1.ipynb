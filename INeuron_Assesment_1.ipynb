{
 "cells": [
  {
   "cell_type": "code",
   "execution_count": 5,
   "id": "afbc82bb",
   "metadata": {},
   "outputs": [],
   "source": [
    "#1. Create a function in python to read the text file and replace specific content of the file.\n",
    "with open('example.txt', 'w') as f:\n",
    "    f.write('This is a placement assignment')\n",
    "\n",
    "def read_text(file):\n",
    "    file1=open(file,'rt')\n",
    "    data=file1.read()\n",
    "    data=data.replace('placement','screening')\n",
    "    file1.close()\n",
    "    \n",
    "    file1=open(file,'wt')\n",
    "    file1.write(data)\n",
    "    file1.close()\n",
    "    \n",
    "read_text('example.txt')\n",
    "    "
   ]
  },
  {
   "cell_type": "code",
   "execution_count": 37,
   "id": "b14b4c63",
   "metadata": {},
   "outputs": [
    {
     "name": "stdout",
     "output_type": "stream",
     "text": [
      "Name:  Wrushabh Gonnade\n",
      "Amount with 10 % Interest is Rs: 550.0\n",
      "Name:  Wrushabh Gonnade\n",
      "Amount without Interest is Rs:  500\n"
     ]
    }
   ],
   "source": [
    "#2 Demonstrate use of abstract class, multiple inheritance and decorator in python using examples.\n",
    "from abc import ABC, abstractmethod\n",
    "\n",
    "\n",
    "class Bank(ABC):\n",
    "    def __init__(self, first_name, last_name):\n",
    "        self.first_name = first_name\n",
    "        self.last_name = last_name\n",
    "\n",
    "   \n",
    "    def full_name(self):\n",
    "        return f\"{self.first_name} {self.last_name}\"\n",
    "\n",
    "    @abstractmethod\n",
    "    def get_amount(self):\n",
    "        pass\n",
    "    \n",
    "    \n",
    "class Amount_without_Interest(Bank):This is a placement assignment\n",
    "    def __init__(self, first_name, last_name,rupee):\n",
    "        super().__init__(first_name, last_name)\n",
    "        self.rupee = rupee\n",
    "\n",
    "    def get_amount(self):\n",
    "        return self.rupee\n",
    "    \n",
    "    \n",
    "class Amount_with_Interest(Bank):\n",
    "    def __init__(self, first_name, last_name, rupee, interest):\n",
    "        super().__init__(first_name, last_name)\n",
    "        self.rupee = rupee\n",
    "        self.interest = interest\n",
    "\n",
    "    def get_amount(self):\n",
    "        return self.rupee + (self.rupee/100)*self.interest\n",
    "\n",
    "    \n",
    "    \n",
    "\n",
    "\n",
    "SBI=Amount_with_Interest('Wrushabh','Gonnade',500,10)\n",
    "print(\"Name: \",SBI.full_name())\n",
    "print(\"Amount with {} % Interest is Rs: {}\".format(SBI.interest,SBI.get_amount()))\n",
    "\n",
    "BOB=Amount_without_Interest('Wrushabh','Gonnade',500)\n",
    "print(\"Name: \",BOB.full_name())\n",
    "print(\"Amount without Interest is Rs: \",BOB.get_amount())"
   ]
  },
  {
   "cell_type": "code",
   "execution_count": 44,
   "id": "324047c5",
   "metadata": {},
   "outputs": [],
   "source": []
  },
  {
   "cell_type": "code",
   "execution_count": 45,
   "id": "b8a05fdc",
   "metadata": {},
   "outputs": [],
   "source": []
  },
  {
   "cell_type": "code",
   "execution_count": null,
   "id": "d498873f",
   "metadata": {},
   "outputs": [],
   "source": []
  }
 ],
 "metadata": {
  "kernelspec": {
   "display_name": "Python 3",
   "language": "python",
   "name": "python3"
  },
  "language_info": {
   "codemirror_mode": {
    "name": "ipython",
    "version": 3
   },
   "file_extension": ".py",
   "mimetype": "text/x-python",
   "name": "python",
   "nbconvert_exporter": "python",
   "pygments_lexer": "ipython3",
   "version": "3.9.4"
  }
 },
 "nbformat": 4,
 "nbformat_minor": 5
}
